{
 "cells": [
  {
   "cell_type": "code",
   "execution_count": 1,
   "metadata": {
    "id": "AinYKy5ZdQFL"
   },
   "outputs": [],
   "source": [
    "# Load the necessary packages\n",
    "import torch\n",
    "import torchvision.transforms as transforms\n",
    "\n",
    "from speckcn2.io import load_config\n",
    "from speckcn2.preprocess import prepare_data, normalize_tags, train_test_split\n",
    "from speckcn2.mlmodels import setup_model, setup_loss, setup_optimizer\n",
    "from speckcn2.mlops import train, score\n",
    "from speckcn2.postprocess import tags_distribution"
   ]
  },
  {
   "cell_type": "code",
   "execution_count": 2,
   "metadata": {},
   "outputs": [],
   "source": [
    "# Load the configuration file\n",
    "#config = load_config(sys.argv[1])\n",
    "config = load_config('configuration.yaml')"
   ]
  },
  {
   "cell_type": "code",
   "execution_count": 3,
   "metadata": {
    "id": "6v_9mQCndQFM"
   },
   "outputs": [],
   "source": [
    "# Get some parameters from YAML file\n",
    "datadirectory = config['speckle']['datadirectory']"
   ]
  },
  {
   "cell_type": "code",
   "execution_count": 4,
   "metadata": {
    "colab": {
     "base_uri": "https://localhost:8080/"
    },
    "id": "eDHgJplydQFN",
    "outputId": "cf6b06e0-01ba-4668-87ca-efac3c240205"
   },
   "outputs": [
    {
     "name": "stdout",
     "output_type": "stream",
     "text": [
      "Using cpu.\n"
     ]
    }
   ],
   "source": [
    "# Set the device\n",
    "device = torch.device(\"cuda\" if torch.cuda.is_available() else \"cpu\")\n",
    "print(f'Using {device}.')"
   ]
  },
  {
   "cell_type": "code",
   "execution_count": 5,
   "metadata": {
    "colab": {
     "base_uri": "https://localhost:8080/",
     "height": 1000
    },
    "id": "S8ls8tlGdQFN",
    "outputId": "c73df8ef-d47a-43a4-be0d-4e7f02e59ef1"
   },
   "outputs": [],
   "source": [
    "# Define the transformation to apply to each image\n",
    "transform = transforms.Compose([\n",
    "    # Randomly rotate the image, since it is symmetric\n",
    "    transforms.RandomRotation(degrees=(-180, 180)),\n",
    "    # Take only the center of the image\n",
    "    transforms.CenterCrop(config['speckle']['centercrop']),\n",
    "    # Optionally, downscale it\n",
    "    transforms.Resize(config['speckle']['resize']),\n",
    "    transforms.ToTensor(),\n",
    "])"
   ]
  },
  {
   "cell_type": "code",
   "execution_count": 6,
   "metadata": {},
   "outputs": [
    {
     "name": "stdout",
     "output_type": "stream",
     "text": [
      "*** Loading preprocessed data\n"
     ]
    }
   ],
   "source": [
    "# Load or preprocess the data\n",
    "all_images, all_tags = prepare_data(datadirectory,\n",
    "                                    transform,\n",
    "                                    nimg_print=5,\n",
    "                                    nreps=2)"
   ]
  },
  {
   "cell_type": "code",
   "execution_count": 7,
   "metadata": {
    "id": "8DuOkqMHdQFO"
   },
   "outputs": [],
   "source": [
    "# Normalize the tags between 0 and 1\n",
    "dataset, normalize_tag, recover_tag = normalize_tags(all_images, all_tags)"
   ]
  },
  {
   "cell_type": "code",
   "execution_count": 8,
   "metadata": {
    "colab": {
     "base_uri": "https://localhost:8080/"
    },
    "id": "VCxSE_HYdQFO",
    "outputId": "9c819621-eae7-4370-858c-3156ca0e3395"
   },
   "outputs": [
    {
     "name": "stdout",
     "output_type": "stream",
     "text": [
      "*** There are 200 images in the dataset, 160 for training and 40 for testing.\n"
     ]
    }
   ],
   "source": [
    "# Split the data in training and testing\n",
    "train_loader, test_loader = train_test_split(dataset,\n",
    "                                             config['hyppar']['batch_size'],\n",
    "                                             0.8)"
   ]
  },
  {
   "cell_type": "code",
   "execution_count": 9,
   "metadata": {
    "colab": {
     "base_uri": "https://localhost:8080/"
    },
    "id": "QSUCI_mtdQFP",
    "outputId": "6a728345-ce2d-4643-df82-f7c57a7081ee"
   },
   "outputs": [
    {
     "name": "stderr",
     "output_type": "stream",
     "text": [
      "/home/simone/.virtualenvs/MALES/lib/python3.10/site-packages/torchvision/models/_utils.py:208: UserWarning: The parameter 'pretrained' is deprecated since 0.13 and may be removed in the future, please use 'weights' instead.\n",
      "  warnings.warn(\n",
      "/home/simone/.virtualenvs/MALES/lib/python3.10/site-packages/torchvision/models/_utils.py:223: UserWarning: Arguments other than a weight enum or `None` for 'weights' are deprecated since 0.13 and may be removed in the future. The current behavior is equivalent to passing `weights=ResNet50_Weights.IMAGENET1K_V1`. You can also use `weights=ResNet50_Weights.DEFAULT` to get the most up-to-date weights.\n",
      "  warnings.warn(msg)\n"
     ]
    },
    {
     "name": "stdout",
     "output_type": "stream",
     "text": [
      "Loading model at epoch 6\n"
     ]
    }
   ],
   "source": [
    "# Load the model that you want to use\n",
    "model, last_model_state = setup_model(config)\n",
    "# and set the model to run on the device\n",
    "model = model.to(device)"
   ]
  },
  {
   "cell_type": "code",
   "execution_count": 10,
   "metadata": {
    "id": "b4arsBePdQFP"
   },
   "outputs": [],
   "source": [
    "# Define the loss function and optimizer\n",
    "criterion = setup_loss(config)\n",
    "optimizer = setup_optimizer(config, model)"
   ]
  },
  {
   "cell_type": "code",
   "execution_count": 11,
   "metadata": {
    "colab": {
     "base_uri": "https://localhost:8080/"
    },
    "id": "gYR8g2kedQFQ",
    "outputId": "c2c76a36-57a2-4631-f7d3-4dd614486d63"
   },
   "outputs": [
    {
     "name": "stdout",
     "output_type": "stream",
     "text": [
      "Training the model from epoch 6 to 6\n",
      "Finished Training, Loss: 0.0000\n"
     ]
    }
   ],
   "source": [
    "# Train the model...\n",
    "model, average_loss = train(model, last_model_state, config, train_loader,\n",
    "                            device, optimizer, criterion)\n",
    "print(f'Finished Training, Loss: {average_loss:.4f}')"
   ]
  },
  {
   "cell_type": "code",
   "execution_count": 12,
   "metadata": {
    "colab": {
     "base_uri": "https://localhost:8080/",
     "height": 1000
    },
    "id": "VeylXoiUdQFQ",
    "outputId": "2d3f5900-1d98-4097-dea8-ad86d1b5e8b1"
   },
   "outputs": [
    {
     "name": "stdout",
     "output_type": "stream",
     "text": [
      "Item 0 loss: 0.0569\n",
      "Item 1 loss: 0.3586\n",
      "Item 2 loss: 0.0198\n",
      "Item 3 loss: 0.1168\n",
      "Item 4 loss: 0.1694\n",
      "Item 5 loss: 0.0540\n",
      "Item 6 loss: 0.0229\n",
      "Item 7 loss: 0.1148\n",
      "Item 8 loss: 0.0193\n",
      "Item 9 loss: 0.0175\n",
      "Item 10 loss: 0.1695\n",
      "Item 11 loss: 0.0428\n",
      "Item 12 loss: 0.0387\n",
      "Item 13 loss: 0.0306\n",
      "Item 14 loss: 0.3459\n",
      "Item 15 loss: 0.3643\n",
      "Item 16 loss: 0.0600\n",
      "Item 17 loss: 0.0381\n",
      "Item 18 loss: 0.0175\n",
      "Item 19 loss: 0.0179\n",
      "Item 20 loss: 0.0327\n",
      "Item 21 loss: 0.0459\n",
      "Item 22 loss: 0.0375\n",
      "Item 23 loss: 0.0219\n",
      "Item 24 loss: 0.1043\n",
      "Item 25 loss: 0.0229\n",
      "Item 26 loss: 0.1148\n",
      "Item 27 loss: 0.3428\n",
      "Item 28 loss: 0.1683\n",
      "Item 29 loss: 0.0510\n",
      "Item 30 loss: 0.0466\n",
      "Item 31 loss: 0.1631\n",
      "Item 32 loss: 0.0439\n",
      "Item 33 loss: 0.0192\n",
      "Item 34 loss: 0.0320\n",
      "Item 35 loss: 0.1135\n",
      "Item 36 loss: 0.1735\n",
      "Item 37 loss: 0.1161\n",
      "Item 38 loss: 0.0452\n",
      "Item 39 loss: 0.0353\n"
     ]
    }
   ],
   "source": [
    "# Now test the model\n",
    "test_tags = score(model, test_loader, device, criterion, recover_tag,\n",
    "                  datadirectory)"
   ]
  },
  {
   "cell_type": "code",
   "execution_count": 13,
   "metadata": {
    "colab": {
     "base_uri": "https://localhost:8080/",
     "height": 953
    },
    "id": "qfa9sFr-dQFO",
    "outputId": "dac4182a-660f-4cdc-8f4b-290108c23d9c"
   },
   "outputs": [
    {
     "name": "stdout",
     "output_type": "stream",
     "text": [
      "Data shape: (200, 8)\n",
      "Prediction shape: (40, 8)\n",
      "Train mean: 0.3823397755622864\n",
      "Train std: 0.28305110335350037\n",
      "Prediction mean: 0.3716089725494385\n",
      "Prediction std: 0.29408857226371765\n"
     ]
    }
   ],
   "source": [
    "# Print some statistics of the screen tags\n",
    "tags_distribution(dataset, test_tags, device, datadirectory)"
   ]
  }
 ],
 "metadata": {
  "accelerator": "GPU",
  "colab": {
   "gpuType": "T4",
   "provenance": []
  },
  "kernelspec": {
   "display_name": "Python 3",
   "name": "python3"
  },
  "language_info": {
   "codemirror_mode": {
    "name": "ipython",
    "version": 3
   },
   "file_extension": ".py",
   "mimetype": "text/x-python",
   "name": "python",
   "nbconvert_exporter": "python",
   "pygments_lexer": "ipython3",
   "version": "3.10.12"
  }
 },
 "nbformat": 4,
 "nbformat_minor": 0
}
